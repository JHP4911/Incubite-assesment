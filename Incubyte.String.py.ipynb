{
 "cells": [
  {
   "cell_type": "code",
   "execution_count": 18,
   "id": "cb61c245",
   "metadata": {},
   "outputs": [
    {
     "name": "stdout",
     "output_type": "stream",
     "text": [
      "+------+------+----------+----------+----------+----------+----------+----------+----------+---------------------------------------------------------------------------------------------------------------------------------------------+\n",
      "|      |      |          |          |          |          |          |          |          | {'Is_Active', 'Customer_Id', 'DOB', 'State', 'Dr_Name', 'Customer_Name', 'Vaccination_Id', 'Open_Date', 'Country', 'Last_Consulted_Date'}   |\n",
      "+======+======+==========+==========+==========+==========+==========+==========+==========+=============================================================================================================================================+\n",
      "| Alex | A    | Paul     | USA      | 20101012 | SA       | 20121013 | MVD      | 06031987 | 123457                                                                                                                                      |\n",
      "+------+------+----------+----------+----------+----------+----------+----------+----------+---------------------------------------------------------------------------------------------------------------------------------------------+\n",
      "| John | A    | Paul     | 20101012 | TN       | 20121013 | MVD      | 06031987 | 123458   | IND                                                                                                                                         |\n",
      "+------+------+----------+----------+----------+----------+----------+----------+----------+---------------------------------------------------------------------------------------------------------------------------------------------+\n",
      "| A    | Paul | 123459   | 20101012 | Mathew   | 20121013 | MVD      | PHIL     | 06031987 | WAS                                                                                                                                         |\n",
      "+------+------+----------+----------+----------+----------+----------+----------+----------+---------------------------------------------------------------------------------------------------------------------------------------------+\n",
      "| A    | Paul | NYC      | 20101012 | BOS      | 20121013 | MVD      | 06031987 | 12345    | Matt                                                                                                                                        |\n",
      "+------+------+----------+----------+----------+----------+----------+----------+----------+---------------------------------------------------------------------------------------------------------------------------------------------+\n",
      "| A    | Paul | 20101012 | 1256     | AU       | VIC      | 20121013 | Jacob    | MVD      | 06031987                                                                                                                                    |\n",
      "+------+------+----------+----------+----------+----------+----------+----------+----------+---------------------------------------------------------------------------------------------------------------------------------------------+\n"
     ]
    }
   ],
   "source": [
    "# import module\n",
    "from tabulate import tabulate\n",
    "\n",
    "# assign data\n",
    "mydata = [{\"Alex\", \"123457\", \"20101012\", \"20121013\", \"MVD\", \"Paul\", \"SA\", \"USA\", \"06031987\", \"A\"},\n",
    "\t\t{\"John\", \"123458\", \"20101012\", \"20121013\", \"MVD\", \"Paul\", \"TN\", \"IND\", \"06031987\", \"A\"},\n",
    "\t\t{\"Mathew\", \"123459\", \"20101012\", \"20121013\", \"MVD\", \"Paul\", \"WAS\", \"PHIL\", \"06031987\", \"A\"},\n",
    "\t\t{\"Matt\", \"12345\", \"20101012\", \"20121013\", \"MVD\", \"Paul\", \"BOS\", \"NYC\", \"06031987\", \"A\"},\n",
    "\t\t{\"Jacob\", \"1256\", \"20101012\", \"20121013\", \"MVD\", \"Paul\", \"VIC\", \"AU\", \"06031987\", \"A\"}]\n",
    "\n",
    "# create header\n",
    "head = [{\"Customer_Name\", \"Customer_Id\", \"Open_Date\", \"Last_Consulted_Date\", \"Vaccination_Id\", \"Dr_Name\", \"State\", \"Country\", \"DOB\", \"Is_Active\"}]\n",
    "\n",
    "# display table\n",
    "print(tabulate(mydata, headers=head, tablefmt=\"grid\"))\n"
   ]
  },
  {
   "cell_type": "code",
   "execution_count": 20,
   "id": "39fe09c5",
   "metadata": {},
   "outputs": [
    {
     "ename": "ModuleNotFoundError",
     "evalue": "No module named 'prettytable'",
     "output_type": "error",
     "traceback": [
      "\u001b[1;31m---------------------------------------------------------------------------\u001b[0m",
      "\u001b[1;31mModuleNotFoundError\u001b[0m                       Traceback (most recent call last)",
      "\u001b[1;32m<ipython-input-20-ced14fed611d>\u001b[0m in \u001b[0;36m<module>\u001b[1;34m\u001b[0m\n\u001b[1;32m----> 1\u001b[1;33m \u001b[1;32mfrom\u001b[0m \u001b[0mprettytable\u001b[0m \u001b[1;32mimport\u001b[0m \u001b[0mPrettyTable\u001b[0m\u001b[1;33m\u001b[0m\u001b[1;33m\u001b[0m\u001b[0m\n\u001b[0m\u001b[0;32m      2\u001b[0m \u001b[1;33m\u001b[0m\u001b[0m\n\u001b[0;32m      3\u001b[0m \u001b[1;31m# Specify the Column Names while initializing the Table\u001b[0m\u001b[1;33m\u001b[0m\u001b[1;33m\u001b[0m\u001b[1;33m\u001b[0m\u001b[0m\n\u001b[0;32m      4\u001b[0m \u001b[0mmyTable\u001b[0m \u001b[1;33m=\u001b[0m \u001b[0mPrettyTable\u001b[0m\u001b[1;33m(\u001b[0m\u001b[1;33m[\u001b[0m\u001b[1;34m\"Student Name\"\u001b[0m\u001b[1;33m,\u001b[0m \u001b[1;34m\"Class\"\u001b[0m\u001b[1;33m,\u001b[0m \u001b[1;34m\"Section\"\u001b[0m\u001b[1;33m,\u001b[0m \u001b[1;34m\"Percentage\"\u001b[0m\u001b[1;33m]\u001b[0m\u001b[1;33m)\u001b[0m\u001b[1;33m\u001b[0m\u001b[1;33m\u001b[0m\u001b[0m\n\u001b[0;32m      5\u001b[0m \u001b[1;33m\u001b[0m\u001b[0m\n",
      "\u001b[1;31mModuleNotFoundError\u001b[0m: No module named 'prettytable'"
     ]
    }
   ],
   "source": [
    "from prettytable import PrettyTable\n",
    "\n",
    "# Specify the Column Names while initializing the Table\n",
    "myTable = PrettyTable([\"Student Name\", \"Class\", \"Section\", \"Percentage\"])\n",
    "\n",
    "# Add rows\n",
    "myTable.add_row([\"Leanord\", \"X\", \"B\", \"91.2 %\"])\n",
    "myTable.add_row([\"Penny\", \"X\", \"C\", \"63.5 %\"])\n",
    "myTable.add_row([\"Howard\", \"X\", \"A\", \"90.23 %\"])\n",
    "myTable.add_row([\"Bernadette\", \"X\", \"D\", \"92.7 %\"])\n",
    "myTable.add_row([\"Sheldon\", \"X\", \"A\", \"98.2 %\"])\n",
    "myTable.add_row([\"Raj\", \"X\", \"B\", \"88.1 %\"])\n",
    "myTable.add_row([\"Amy\", \"X\", \"B\", \"95.0 %\"])\n",
    "\n",
    "print(myTable)\n"
   ]
  },
  {
   "cell_type": "code",
   "execution_count": null,
   "id": "3bb6d38c",
   "metadata": {},
   "outputs": [],
   "source": []
  }
 ],
 "metadata": {
  "kernelspec": {
   "display_name": "Python 3",
   "language": "python",
   "name": "python3"
  },
  "language_info": {
   "codemirror_mode": {
    "name": "ipython",
    "version": 3
   },
   "file_extension": ".py",
   "mimetype": "text/x-python",
   "name": "python",
   "nbconvert_exporter": "python",
   "pygments_lexer": "ipython3",
   "version": "3.9.5"
  }
 },
 "nbformat": 4,
 "nbformat_minor": 5
}
